{
 "cells": [
  {
   "cell_type": "markdown",
   "metadata": {},
   "source": [
    "# The Battle of the Neighbourhoods - W1\n",
    "\n",
    "## Data\n",
    "\n",
    "The following datasets will be used to conduct this analysis:\n",
    "\n",
    "### Neighbourhood data\n",
    "This will consist of the bourogh name, neighbourhood name, and coordinates for each neighbourhood. This CSV file can be accessed for free via the following link : https://data.cityofnewyork.us/City-Government/Neighborhood-Names-GIS/99bc-9p23\n",
    "\n",
    "### Population, demographic and cuisine related data\n",
    "These datasets will consist of population distributions, economic distributions, types of cuisines and restaurants, location of michellin starred restaurants and other demographic data.\n",
    "These can be easily found on wikipedia, the following are the links for the same:\n",
    "https://en.wikipedia.org/wiki/New_York_City \n",
    "https://en.wikipedia.org/wiki/Portal:New_York_City \n",
    "https://en.wikipedia.org/wiki/Economy_of_New_York_City \n",
    "https://en.wikipedia.org/wiki/Cuisine_of_New_York_City \n",
    "https://en.wikipedia.org/wiki/List_of_Michelin_starred_restaurants_in_New_York_City\n",
    "\n",
    "### Markets and ingredient related data\n",
    "This dataset will contain the location of farmers markets across NYC. This can also be accessed for free via the following link: https://data.cityofnewyork.us/dataset/DOHMH-Farmers-Markets-and-Food-Boxes/8vwk-6iz2\n",
    "\n",
    "### Foursquare data\n",
    "The NYC geo coordinates will used by the Foursquare API to provide information on venues and types of establishments in each neighbourhood. This will have sections for venue type, venue location etc."
   ]
  },
  {
   "cell_type": "code",
   "execution_count": null,
   "metadata": {},
   "outputs": [],
   "source": []
  }
 ],
 "metadata": {
  "kernelspec": {
   "display_name": "Python 3",
   "language": "python",
   "name": "python3"
  },
  "language_info": {
   "codemirror_mode": {
    "name": "ipython",
    "version": 3
   },
   "file_extension": ".py",
   "mimetype": "text/x-python",
   "name": "python",
   "nbconvert_exporter": "python",
   "pygments_lexer": "ipython3",
   "version": "3.7.3"
  }
 },
 "nbformat": 4,
 "nbformat_minor": 2
}
