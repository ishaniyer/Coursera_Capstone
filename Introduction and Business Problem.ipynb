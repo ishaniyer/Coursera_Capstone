{
 "cells": [
  {
   "cell_type": "markdown",
   "metadata": {},
   "source": [
    "# The Battle of the Neighbourhoods - W1\n",
    "\n",
    "## Introduction and Business Problem: \n",
    "\n",
    "\n",
    "\n",
    "\n",
    "### Problem background and description\n",
    "\n",
    "New York City is famous for its excelllent cuisine and robust restaurant culture influenced heavily by the city's immigrant history. It's basically a big brewing pot with Jewish, Italian, Asian, Middle Eastern etc. restaurants dotted all across the city. They serve up everything from pizzas and pastrami, to falafel and tandoori chicken, basically you name it and itsvery likely to be found in New York. The city is also very famous for it's numerous Michelin starred fine dining restaurants. So it's amply clear that to survive in such a competitive market, it is crucial to startegically plan the location of a new restaurant.\n",
    "\n",
    "Chef QWERTY has been working on opening his own Indian casual dining restaurant. Once he has conceptualized his menu his focus shifts to a very impotant part of any restaurant, or establishment for that matter; the location. He decides he'll take some help from his old friend XYZ's who just completed a data science course online. XYZ is delighted to take on this project and assures QWERTY that he has come to the right person because data can solve most problems and give optimal solutions. He tells QWERTY that it'll take him 2-3 days to program the model as various factors such as population, demographics, competitors, cuisines, nearby farmers/wholesale markets for freshness of ingredients, untapped areas etc. need to be considered in order to pick the perfect and most profitable location. \n",
    "\n",
    "\n",
    "### Goal\n",
    "\n",
    "To recommend the optimal neighbourhood/borough to open a new Indian restaurant in New York city, and basing this recommendation on predominantly 2 factors; frequency of Indian restaurants in the area, and distance to the nearest market."
   ]
  }
 ],
 "metadata": {
  "kernelspec": {
   "display_name": "Python 3",
   "language": "python",
   "name": "python3"
  },
  "language_info": {
   "codemirror_mode": {
    "name": "ipython",
    "version": 3
   },
   "file_extension": ".py",
   "mimetype": "text/x-python",
   "name": "python",
   "nbconvert_exporter": "python",
   "pygments_lexer": "ipython3",
   "version": "3.7.3"
  }
 },
 "nbformat": 4,
 "nbformat_minor": 2
}
